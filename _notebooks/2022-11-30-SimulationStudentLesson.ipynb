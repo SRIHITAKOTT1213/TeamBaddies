{
 "cells": [
  {
   "cell_type": "markdown",
   "metadata": {},
   "source": [
    "# Simulations- Unit 3 Section 16 Lesson\n",
    "> Student Lesson by Alexa, Ava, Lydia, and Sri\n",
    "\n",
    "- toc: true\n",
    "- comments: true\n",
    "- permalink: /studentlesson/simulations\n",
    "- categories: [lesson8]"
   ]
  },
  {
   "cell_type": "markdown",
   "metadata": {},
   "source": [
    "# Intro to Simulations\n",
    "- What is a simulation?\n",
    "    - A simulation is an imitation of a situation or process\n",
    "    - Aka a virtual experiment "
   ]
  },
  {
   "cell_type": "markdown",
   "metadata": {},
   "source": [
    "# Examples of Simulations:\n",
    "Simulations are used all the time over many different industries\n",
    "- testing safety of a car\n",
    "- games\n",
    "- testing the efficiency of a parking lot\n",
    "- testing a new train route"
   ]
  },
  {
   "cell_type": "markdown",
   "metadata": {},
   "source": [
    "# Simulation vs. Experiment\n",
    "- Experiment definition: procedure undertaken to make a discovery, test a hypothesis, or demonstrate a known fact\n",
    "\n",
    "So, why use a simulation?\n",
    "\n",
    "- Advantages: \n",
    "    - Can be safer\n",
    "    - More cost-effective\n",
    "    - More efficient \n",
    "    - More data in less time\n",
    "- Disadvantages:\n",
    "    - Not as accurate as experiments\n",
    "    - outside factors not included (ex: in rolling dice simulation gravity and air resistance)\n",
    "\n",
    "leads into real life game example:"
   ]
  },
  {
   "attachments": {},
   "cell_type": "markdown",
   "metadata": {},
   "source": [
    "# Rolling a Dice Example"
   ]
  },
  {
   "cell_type": "code",
   "execution_count": 1,
   "metadata": {},
   "outputs": [
    {
     "name": "stdout",
     "output_type": "stream",
     "text": [
      "[2, 5, 6, 1]\n"
     ]
    }
   ],
   "source": [
    "\n",
    "\n",
    "def parse_input(input_string):\n",
    "    if input_string.strip() in {\"1\", \"2\", \"3\",\"4\", \"5\", \"6\"}:\n",
    "        return int(input_string)\n",
    "    else:\n",
    "        print(\"Please enter a number from 1 to 6.\")\n",
    "        raise SystemExit(1)\n",
    "\n",
    "import random\n",
    "\n",
    "def roll_dice(num_dice):\n",
    "    roll_results = []\n",
    "    for _ in range(num_dice):\n",
    "        roll = random.randint(1, 6)\n",
    "        roll_results.append(roll)\n",
    "    return roll_results\n",
    "\n",
    "\n",
    "num_dice_input = input(\"How many dice do you want to roll? [1-6] \")\n",
    "num_dice = parse_input(num_dice_input)\n",
    "roll_results = roll_dice(num_dice)\n",
    "\n",
    "print(roll_results) # remove this line after testing the app\n"
   ]
  },
  {
   "cell_type": "markdown",
   "metadata": {},
   "source": [
    "# A Real Life Example\n",
    "\n",
    "- four corners game here \n",
    "- explain how person who chooses a corner is the random.randint\n",
    "- \n",
    "\n",
    "\n",
    "DEBRIEF: why is it better to code simulations than experiement in real life?"
   ]
  },
  {
   "cell_type": "code",
   "execution_count": 6,
   "metadata": {},
   "outputs": [
    {
     "name": "stdout",
     "output_type": "stream",
     "text": [
      "You chose corner number 3 and are still in!\n",
      "You chose corner number 2 and are still in!\n",
      "You chose corner number 4 and you're OUT\n"
     ]
    }
   ],
   "source": [
    "import random\n",
    "\n",
    "status = \"in\"\n",
    "while status != \"out\":\n",
    "    chooseCorner = input(\"What corner do you choose?\")\n",
    "\n",
    "    corner = random.randint(1,4)\n",
    "\n",
    "    if int(chooseCorner) == corner:\n",
    "        status = \"out\"\n",
    "        print(\"You chose corner number \" + chooseCorner + \" and you're OUT\")\n",
    "    else:\n",
    "        print(\"You chose corner number \" + chooseCorner + \" and are still in!\")\n"
   ]
  }
 ],
 "metadata": {
  "kernelspec": {
   "display_name": "base",
   "language": "python",
   "name": "python3"
  },
  "language_info": {
   "codemirror_mode": {
    "name": "ipython",
    "version": 3
   },
   "file_extension": ".py",
   "mimetype": "text/x-python",
   "name": "python",
   "nbconvert_exporter": "python",
   "pygments_lexer": "ipython3",
   "version": "3.9.12"
  },
  "orig_nbformat": 4,
  "vscode": {
   "interpreter": {
    "hash": "c592ff5847e581e8b66b02dcd331c526c35045e822da212864271a73a90b0063"
   }
  }
 },
 "nbformat": 4,
 "nbformat_minor": 2
}

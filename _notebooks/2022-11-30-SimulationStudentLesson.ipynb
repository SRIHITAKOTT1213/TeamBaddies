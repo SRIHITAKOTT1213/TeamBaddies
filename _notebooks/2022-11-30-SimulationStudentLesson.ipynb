{
 "cells": [
  {
   "cell_type": "markdown",
   "metadata": {},
   "source": [
    "# Simulations\n",
    "> Student Lesson by Alexa, Ava, Lydia, and Sri\n",
    "\n",
    "- toc: true\n",
    "- comments: true\n",
    "- permalink: /studentlesson/simulations\n",
    "- image: /images/tools.jpg\n",
    "- categories: [simulations]"
   ]
  },
  {
   "cell_type": "code",
   "execution_count": null,
   "metadata": {},
   "outputs": [],
   "source": []
  }
 ],
 "metadata": {
  "language_info": {
   "name": "python"
  },
  "orig_nbformat": 4
 },
 "nbformat": 4,
 "nbformat_minor": 2
}

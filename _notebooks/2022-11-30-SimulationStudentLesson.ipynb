{
 "cells": [
  {
   "cell_type": "markdown",
   "metadata": {},
   "source": [
    "# Simulations- Unit 3 Section 16 Lesson\n",
    "> Student Lesson by Alexa, Ava, Lydia, and Sri\n",
    "\n",
    "- toc: true\n",
    "- comments: true\n",
    "- permalink: /studentlesson/simulations\n",
    "- categories: [lesson8]"
   ]
  },
  {
   "cell_type": "markdown",
   "metadata": {},
   "source": [
    "# Intro to Simulations\n",
    "- What is a simulation"
   ]
  },
  {
   "cell_type": "markdown",
   "metadata": {},
   "source": [
    "# Examples of Simulations"
   ]
  },
  {
   "cell_type": "markdown",
   "metadata": {},
   "source": [
    "# Simulation vs. Experiment\n",
    "- def of experiment and explain difference\n",
    "- advantages and disadvantages\n",
    "\n",
    "leads into real life game example:"
   ]
  },
  {
   "cell_type": "markdown",
   "metadata": {},
   "source": [
    "# A Real Life Example\n",
    "\n",
    "- four corners game here \n",
    "- explain how person who chooses a corner is the random.randint\n",
    "- \n",
    "\n",
    "\n",
    "DEBRIEF: why is it better to code simulations than experiement in real life?"
   ]
  }
 ],
 "metadata": {
  "kernelspec": {
   "display_name": "Python 3.8.10 64-bit",
   "language": "python",
   "name": "python3"
  },
  "language_info": {
   "name": "python",
   "version": "3.8.10"
  },
  "orig_nbformat": 4,
  "vscode": {
   "interpreter": {
    "hash": "916dbcbb3f70747c44a77c7bcd40155683ae19c65e1c03b4aa3499c5328201f1"
   }
  }
 },
 "nbformat": 4,
 "nbformat_minor": 2
}

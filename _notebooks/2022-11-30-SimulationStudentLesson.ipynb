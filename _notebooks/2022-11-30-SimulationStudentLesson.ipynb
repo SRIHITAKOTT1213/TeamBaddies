{
 "cells": [
  {
   "cell_type": "markdown",
   "metadata": {},
   "source": [
    "# Simulations- Unit 3 Section 16 Lesson\n",
    "> Student Lesson by Alexa, Ava, Lydia, and Sri\n",
    "\n",
    "- toc: true\n",
    "- comments: true\n",
    "- permalink: /studentlesson/simulations\n",
    "- categories: [lesson8]"
   ]
  },
  {
   "cell_type": "markdown",
   "metadata": {},
   "source": [
    "# 3.16 Intro to Simulations - Alexa\n",
    "- What is a **simulation**?\n",
    "    - A simulation is an imitation of a situation or process\n",
    "    - Aka a <u>virtual experiment </u>"
   ]
  },
  {
   "cell_type": "markdown",
   "metadata": {},
   "source": [
    "# Guiding questions for a simulation:\n",
    "    - What makes it a simulation?\n",
    "    - What are it’s advantages and disadvantages? \n",
    "    - In your opinion, would an experiment be better in this situation?"
   ]
  },
  {
   "cell_type": "markdown",
   "metadata": {},
   "source": [
    "# Examples of Simulations:\n",
    "Simulations are used all the time over many different industries\n",
    "- testing safety of a car\n",
    "- games\n",
    "- testing the efficiency of a parking lot\n",
    "- testing a new train route"
   ]
  },
  {
   "cell_type": "markdown",
   "metadata": {},
   "source": [
    "# Simulation vs. Experiment\n",
    "- **Experiment** definition: procedure undertaken to make a discovery, test a hypothesis, or demonstrate a known fact\n",
    "\n",
    "So, why use a simulation?\n",
    "\n",
    "- **Advantages**: \n",
    "    - Can be safer\n",
    "    - More cost-effective\n",
    "    - More efficient \n",
    "    - More data in less time\n",
    "- **Disadvantages**:\n",
    "    - Not as accurate as experiments\n",
    "    - outside factors not included (ex: in rolling dice simulation gravity and air resistance)\n",
    "- When do you <u>not</u> use a simulation?\n",
    "    - when a situation already has set results/data (won't change) \n",
    "    - examples: a score in a game, most purchased food, average yearly wage\n",
    "\n",
    "leads into real life game example:"
   ]
  },
  {
   "cell_type": "markdown",
   "metadata": {},
   "source": [
    "<hr>\n",
    "<hr>"
   ]
  },
  {
   "cell_type": "markdown",
   "metadata": {},
   "source": [
    "# A Real Life Example: Four Corners - Lydia & Ava\n",
    "\n",
    "- an example of a simulation and experiment = the game of 4 corners\n",
    "- games are simulations!\n",
    "- We are going to play a round of 4 corners here in class.\n",
    "    - This game is a real life version of our simulation.\n",
    "    - Mr. Mortensen will be the person in the middle choosing corners.\n",
    "    - Everyone will choose a corner, and if your corner is chosen, you are out!\n",
    "\n",
    "### The rules of the game:\n",
    "1. a person stands in the center of a room and the 4 coners are labeled 1-4\n",
    "2. Every player chooses a corner while the person in the middle closes their eyes\n",
    "3. person in the middle chooses/calls out a number when instructed\n",
    "4. every player in the chosen corner is now out\n",
    "5. contine until there is a winner!\n",
    "\n",
    "### Let's play!"
   ]
  },
  {
   "cell_type": "markdown",
   "metadata": {},
   "source": [
    "### Below is the simulation of the four corners game!"
   ]
  },
  {
   "cell_type": "code",
   "execution_count": 3,
   "metadata": {},
   "outputs": [
    {
     "name": "stdout",
     "output_type": "stream",
     "text": [
      "You chose corner number 2 and are still in!\n",
      "You chose corner number 3 and are still in!\n",
      "You chose corner number 4 and you're OUT\n"
     ]
    }
   ],
   "source": [
    "import random\n",
    "\n",
    "status = \"in\"\n",
    "while status != \"out\":\n",
    "    chooseCorner = input(\"What corner do you choose?\")\n",
    "\n",
    "    corner = random.randint(1,4)\n",
    "\n",
    "    if int(chooseCorner) == corner:\n",
    "        status = \"out\"\n",
    "        print(\"You chose corner number \" + chooseCorner + \" and you're OUT\")\n",
    "    else:\n",
    "        print(\"You chose corner number \" + chooseCorner + \" and are still in!\")\n"
   ]
  },
  {
   "cell_type": "markdown",
   "metadata": {},
   "source": [
    "### Comparing Experiment to Simulation Code:\n",
    "- Mr. Mortensen (person in the middle) = random.randint\n",
    "- if statement = if player is out\n",
    "- else = safe/continue\n",
    "- while loop = repeats process until there is a winner of the game\n",
    "\n",
    "\n",
    "\n",
    "### DEBRIEF QUESTIONS: \n",
    "1. Why is it better to code simulations than experiement in real life?\n",
    "2. What makes this game a simulation?\n",
    "3. What are its advantages and disadvantages?\n",
    "4. Would an experiment be better in this situation? (raise hands for each team)"
   ]
  },
  {
   "cell_type": "markdown",
   "metadata": {},
   "source": [
    "<hr>\n",
    "<hr>"
   ]
  },
  {
   "cell_type": "markdown",
   "metadata": {},
   "source": [
    "## Hack #1 \n",
    "* Create an idea for a simulation and describe it (you don’t actually have to code it just think about/answer the guiding questions)."
   ]
  },
  {
   "cell_type": "markdown",
   "metadata": {},
   "source": [
    "## Hack #2 (collegeboard based questions) \n",
    "* Simulations Quiz (either screenshot or paste quiz in your notebook):"
   ]
  },
  {
   "cell_type": "code",
   "execution_count": null,
   "metadata": {},
   "outputs": [],
   "source": [
    "questions_number = 6\n",
    "answers_correct = 0\n",
    "questions = [\n",
    "    \"True or False: Simulations will always have the same result. \\n A: True, \\n B: False\",\n",
    "    \"True or False: A simulation has results that are more accurate than an experiment \\n A: True, \\n B: False\",\n",
    "    \"True or False: A simulation can model real world events that are not practical for experiments \\n A: True, \\n B: False\",\n",
    "    \"Which one of these is FALSE regarding simulations \\n A: Reduces Costs, \\n B: Is safer than real life experiments, \\n C: More Efficient, \\n D: More accurate than real life experiments\",\n",
    "    \"Which of the following scenarios would be the LEAST beneficial to have as a simulation \\n A: A retail company wants to identify the item which sold the most on their website, \\n B: A restaurant wants to determine if the use of robots will increase efficiency, \\n C: An insurance company wants to study the impact of rain on car accidents, \\n D: A sports car company wants to study design changes to their new bike design \",\n",
    "    \"Which of the following is better to do as a simulation than as a calculation \\n A: Keeping score at a basketball game, \\n B: Keeping track of how many games a person has won, \\n C: Determining the average grade for a group of tests, \\n D: Studying the impact of carbon emissions on the environment\"\n",
    "]\n",
    "question_answers = [\n",
    "    \"B\",\n",
    "    \"B\",\n",
    "    \"A\",\n",
    "    \"D\",\n",
    "    \"A\",\n",
    "    \"D\"\n",
    "]\n",
    "\n",
    "print(\"Welcome to the Simulations Quiz!\")\n",
    "\n",
    "def ask_question (question, answer):\n",
    "    print(\"\\n\", question)\n",
    "    user_answer = input(question)\n",
    "    print(\"You said: \", user_answer)\n",
    "\n",
    "    if user_answer == answer:\n",
    "        print(\"Correct!\")\n",
    "        global answers_correct\n",
    "        answers_correct = answers_correct + 1\n",
    "    else:\n",
    "        print(\"You are incorrect\")\n",
    "    \n",
    "for num in range(questions_number):\n",
    "    ask_question(questions[num], question_answers[num])\n",
    "\n",
    "print(\"You scored: \", answers_correct, \"/6\")"
   ]
  },
  {
   "cell_type": "markdown",
   "metadata": {},
   "source": [
    "<hr>\n",
    "<hr>"
   ]
  },
  {
   "attachments": {},
   "cell_type": "markdown",
   "metadata": {},
   "source": [
    "# Rolling a Dice Example - Sri"
   ]
  },
  {
   "cell_type": "markdown",
   "metadata": {},
   "source": [
    "Below is a simulation of rolling dice! Examine the code and think about how this simulation works and its purpose!"
   ]
  },
  {
   "cell_type": "code",
   "execution_count": 7,
   "metadata": {},
   "outputs": [
    {
     "name": "stdout",
     "output_type": "stream",
     "text": [
      "you rolled: [5, 1, 2]\n"
     ]
    }
   ],
   "source": [
    "\n",
    "\n",
    "def parse_input(input_string):\n",
    "    if input_string.strip() in {\"1\", \"2\", \"3\",\"4\", \"5\", \"6\"}:\n",
    "        return int(input_string)\n",
    "    else:\n",
    "        print(\"Please enter a number from 1 to 6.\")\n",
    "        raise SystemExit(1)\n",
    "\n",
    "import random\n",
    "\n",
    "def roll_dice(num_dice):\n",
    "    roll_results = []\n",
    "    for _ in range(num_dice):\n",
    "        roll = random.randint(1, 6)\n",
    "        roll_results.append(roll)\n",
    "    return roll_results\n",
    "\n",
    "\n",
    "num_dice_input = input(\"How many dice do you want to roll? [1-6] \")\n",
    "num_dice = parse_input(num_dice_input)\n",
    "roll_results = roll_dice(num_dice)\n",
    "\n",
    "print(\"you rolled:\", roll_results) \n"
   ]
  },
  {
   "cell_type": "markdown",
   "metadata": {},
   "source": [
    "<hr>\n",
    "<hr>"
   ]
  },
  {
   "cell_type": "markdown",
   "metadata": {},
   "source": [
    "# Game of Life - Lydia & Ava\n",
    "\n",
    "Below is a simulation of the Game of Life, originally written by John Horton Conway. Mr. Mortensen has this game on the APCSP site and we think that it is a great example of an interactive simulation. \n",
    "\n",
    "### What it is\n",
    "- This game is an unpredictable cellular automaton\n",
    "- automaton = simulates and imitates human life, hence why this is called the game of life\n",
    "- After creating the initial configuration, the game evolves without pattern\n",
    "\n",
    "### How it works\n",
    "- Cells in this game are alive or dead, similar to binary where they are on or off\n",
    "- The user created an initial configuration of cells on the grid, and presses play (tap the squares on the grid)\n",
    "- a cells's status (alive or dead, on or off) depends on the surrounding 8 cells status (surrounding 8 boxes). Here are the rules:\n",
    "    - The birth rule= a dead cell (blue box) that is surrounded by at least 3 alive cells (yellow boxes), will become alive\n",
    "    - The death rule= an alive cell (yellow) with no or only one surviving cell around it dies (becomes blue)\n",
    "    - Cell survival= an alive cell (yellow) with 2 or 3 alive neighboring cells will stay alive\n",
    "\n",
    "### Try it Out!\n",
    "\n",
    "Use the grid below to create cell figurations, press play, and watch your cells die, live, and move around!\n"
   ]
  },
  {
   "cell_type": "markdown",
   "metadata": {},
   "source": [
    "\n",
    "\n",
    "{% comment %}\n",
    "Conway's Game of Life https://en.wikipedia.org/wiki/Conway%27s_Game_of_Life\n",
    "{% endcomment %}\n",
    "\n",
    "<style>\n",
    "    #container {\n",
    "    display: grid;\n",
    "    }\n",
    "\n",
    "    .cell {\n",
    "    border: 1px solid black;\n",
    "    }\n",
    "</style>\n",
    "\n",
    "<div class=\"container\">\n",
    "    <header class=\"pb-3 mb-4 border-bottom border-primary text-dark\">\n",
    "        <span class=\"fs-4\">Remix of Game of Life</span>\n",
    "    </header>\n",
    "    <!-- Buttons that link to functions in javascript -->\n",
    "    <button onclick=\"start()\" id=\"start-btn\">start</button>\n",
    "    <button onclick=\"step()\">step</button>\n",
    "    <!-- Container drawn by JavaScript -->\n",
    "    <div id=\"container\" class=\"container py-4\">\n",
    "    </div>\n",
    "</div>\n",
    "\n",
    "<script>\n",
    "\n",
    "// Constants\n",
    "let GRID_SIZE = 40;\n",
    "let CELL_SIZE = \"15px\";\n",
    "let container = document.getElementById(\"container\");\n",
    "\n",
    "// Add CSS to container to make it a grid\n",
    "container.style[\"grid-template-columns\"] = `repeat(${GRID_SIZE}, ${CELL_SIZE})`;\n",
    "// Add squares to grid\n",
    "for(let i=0; i<GRID_SIZE*GRID_SIZE; i++) {\n",
    "    let di = document.createElement('div');\n",
    "    di.style['width'] = CELL_SIZE;\n",
    "    di.style['height'] = CELL_SIZE;\n",
    "    di.onclick = clicked; // setting event listener to clicked function\n",
    "    di.ondragstart = dragged;\n",
    "    di.ondragover = dragged;\n",
    "    di.className = 'cell';\n",
    "    di.id = 'cell-'+i;\n",
    "    container.appendChild(di)\n",
    "}\n",
    "\n",
    "\n",
    "const CELLS = Array(GRID_SIZE).fill().map(() => Array(GRID_SIZE).fill(0)); // create 2D array filled with '0'\n",
    "const safeindex = (x, y) => !(x < 0 || x >= GRID_SIZE || y<0 || y >= GRID_SIZE); // Anonymous function to check bounds of index\n",
    "// safeindex(0,0) = true\n",
    "// safeindex(-1,-1) = false, because -1 falls out of bounds\n",
    "\n",
    "\n",
    "function safeGet(x, y) {\n",
    "    if(!safeindex(x,y)) return 0;\n",
    "    if(CELLS[y][x] === 0) return 0; // blank square\n",
    "    if(CELLS[y][x] === 1) return 1; // filled square\n",
    "    if(CELLS[y][x] === 2) return 0; // previously blank square\n",
    "    if(CELLS[y][x] === 3) return 1; // previously filled square\n",
    "    console.error(\"AHH\"); // should never get here\n",
    "}\n",
    "\n",
    "// helper function to set a square on the grid\n",
    "function setCell(n, v) {\n",
    "    let row = Math.floor(n/GRID_SIZE);\n",
    "    let col = n%GRID_SIZE;\n",
    "    CELLS[row][col] = v;\n",
    "}\n",
    "\n",
    "// Helper function to toggle a cell by it's index\n",
    "function toggleCell(n) {\n",
    "    let row = Math.floor(n/GRID_SIZE);\n",
    "    let col = n%GRID_SIZE;\n",
    "    CELLS[row][col] = CELLS[row][col] === 0 ? 1 : 0;\n",
    "}\n",
    "\n",
    "\n",
    "// Call this every interval, it will look through our CELLS array and reflect its data on the grid\n",
    "function updateContainer() {\n",
    "    CELLS.forEach((arr, r) => {\n",
    "    arr.forEach((val, c) => {\n",
    "        let n = r*GRID_SIZE + c;\n",
    "        if(val === 1) {\n",
    "        document.getElementById(\"cell-\"+n).style['background-color'] = 'yellow';\n",
    "        }else {\n",
    "        document.getElementById(\"cell-\"+n).style['background-color'] = 'royalblue'\n",
    "        }\n",
    "    });\n",
    "    })\n",
    "}\n",
    "\n",
    "\n",
    "// will be called whenever a cell is clicked\n",
    "function clicked() {\n",
    "    const id = parseInt(this.id.substring(5), 10); // the id of a cell is \"cell-XX\" where XX is the index\n",
    "    toggleCell(id); // if a cell is clicked we will toggle it\n",
    "    updateContainer();\n",
    "}\n",
    "\n",
    "// Same thing as clicked except tied to drag event\n",
    "function dragged() {\n",
    "    const id = parseInt(this.id.substring(5), 10);\n",
    "    setCell(id, 1);\n",
    "    updateContainer()\n",
    "}\n",
    "\n",
    "// Randomly setting cells to 1 in the grid\n",
    "function randomInit(n) {\n",
    "    let max = GRID_SIZE*GRID_SIZE;\n",
    "    for(let i=0; i<n; i++) {\n",
    "    setCell(Math.floor(Math.random()*max), 1)\n",
    "    }\n",
    "    updateContainer();\n",
    "}\n",
    "\n",
    "// check how many alive neighbors a cell has\n",
    "function getNeighbors(x,y) {\n",
    "    const l = x-1;\n",
    "    const r = x+1;\n",
    "    const u = y-1;\n",
    "    const d = y+1;\n",
    "\n",
    "    return safeGet(l, y) +\n",
    "            safeGet(r, y) +\n",
    "            safeGet(x, u) +\n",
    "            safeGet(x, d) +\n",
    "            safeGet(l, u) +\n",
    "            safeGet(r, u) +\n",
    "            safeGet(l, d) +\n",
    "            safeGet(r, d);\n",
    "}\n",
    "\n",
    "function step() {\n",
    "    for(let y=0; y<GRID_SIZE; y++) {\n",
    "        for(let x=0; x<GRID_SIZE; x++) { // for every square in the grid...\n",
    "\n",
    "            const n = getNeighbors(x, y); // find how many alive neighbors it has\n",
    "            const val = safeGet(x, y); // Get the value of the cell\n",
    "\n",
    "            if(val === 0) { // if the cell is dead...\n",
    "                if(n === 3) { // and it has three alive neighbors...\n",
    "                    CELLS[y][x] = 2; // Make this cell come to life\n",
    "                }\n",
    "            } else { // If the cell is alive...\n",
    "                if(n === 2 || n === 3) { // and it has ONLY 2 or ONLY 3 alive neighbors...\n",
    "                    CELLS[y][x] = 3; // The cell gets to live another round\n",
    "                }\n",
    "            }\n",
    "\n",
    "        }\n",
    "    }\n",
    "\n",
    "    // Run through every modified cell and convert it to either alive or dead\n",
    "    for(let y=0; y<GRID_SIZE; y++) {\n",
    "        for(let x=0; x<GRID_SIZE; x++) {\n",
    "            CELLS[y][x] = Math.floor(CELLS[y][x]/2);\n",
    "        }\n",
    "    }\n",
    "\n",
    "    updateContainer(); // call the update function to reflect changes in the\n",
    "}\n",
    "\n",
    "\n",
    "let paused = false;\n",
    "const startbtn = document.getElementById(\"start-btn\");\n",
    "\n",
    "// used to toggle the animation\n",
    "function togglePause() {\n",
    "    paused = !paused;\n",
    "    if(paused) {\n",
    "    startbtn.innerHTML = \"resume\"\n",
    "    } else {\n",
    "    startbtn.innerHTML = \"pause\";\n",
    "    }\n",
    "}\n",
    "\n",
    "// Used to start the animation\n",
    "function start() {\n",
    "    startbtn.innerHTML = \"pause\";\n",
    "    startbtn.onclick = togglePause;\n",
    "\n",
    "    // setInterval will call the function within it ever 100ms\n",
    "    const interval = setInterval(function() {\n",
    "    if(!paused) {\n",
    "        step();\n",
    "    }\n",
    "    }, 100);\n",
    "}\n",
    "\n",
    "</script>\n"
   ]
  },
  {
   "cell_type": "markdown",
   "metadata": {},
   "source": [
    "<hr>\n",
    "<hr>"
   ]
  },
  {
   "cell_type": "markdown",
   "metadata": {},
   "source": [
    "## Hack #3 \n",
    "* Describe the rolling dice simulation (answer guiding questions)"
   ]
  },
  {
   "cell_type": "markdown",
   "metadata": {},
   "source": [
    "## Hack #4 \n",
    "* Add a feature onto the rolling dice simulation above \n",
    "    - ex: a 14-sided dice or expand the purpose of the simulation (hint: use conditionals to make dice part of a game/real life situation)"
   ]
  },
  {
   "cell_type": "markdown",
   "metadata": {},
   "source": [
    "<hr>\n",
    "<hr>"
   ]
  },
  {
   "attachments": {},
   "cell_type": "markdown",
   "metadata": {},
   "source": [
    "# Hacks Overview"
   ]
  },
  {
   "attachments": {},
   "cell_type": "markdown",
   "metadata": {},
   "source": [
    "### Use these guiding questions for a simulation:\n",
    "    - What makes it a simulation?\n",
    "    - What are it’s advantages and disadvantages? \n",
    "    - In your opinion, would an experiment be better in this situation?\n",
    "\n",
    "### Hack #1 (0.3)\n",
    "* Create an idea for a simulation and describe it (you don’t actually have to code it just think about/answer the guiding questions).\n",
    "\n",
    "### Hack #2 (0.1)\n",
    "* Simulations Quiz (either screenshot or paste quiz in your notebook)\n",
    "\n",
    "### Hack #3 (0.2)\n",
    "* Describe the rolling dice simulation (answer guiding questions)\n",
    "\n",
    "### Hack #4 (0.3)\n",
    "* Add a feature onto the rolling dice simulation above \n",
    "    - ex: a 14-sided dice or expand the purpose of the simulation (hint: use conditionals to make dice part of a game/real life situation)\n",
    "\n",
    "### Extra Credit (0.1)\n",
    "* For the extra 0.1: try coding a simple simulation and describe it (guiding question)\n"
   ]
  }
 ],
 "metadata": {
  "kernelspec": {
   "display_name": "Python 3.9.12 ('base')",
   "language": "python",
   "name": "python3"
  },
  "language_info": {
   "codemirror_mode": {
    "name": "ipython",
    "version": 3
   },
   "file_extension": ".py",
   "mimetype": "text/x-python",
   "name": "python",
   "nbconvert_exporter": "python",
   "pygments_lexer": "ipython3",
   "version": "3.9.12 (main, Apr  5 2022, 06:56:58) \n[GCC 7.5.0]"
  },
  "orig_nbformat": 4,
  "vscode": {
   "interpreter": {
    "hash": "25ccfe66b39282fc3ea19bf8fc3cc43ce18f6044ac6a7f466ec4a156f6861604"
   }
  }
 },
 "nbformat": 4,
 "nbformat_minor": 2
}

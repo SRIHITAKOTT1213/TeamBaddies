{
 "cells": [
  {
   "cell_type": "markdown",
   "metadata": {},
   "source": [
    "# Unit 3 Section 16 Grades- Simulations\n",
    "> Grades for the class\n",
    "\n",
    "- toc: true\n",
    "- comments: true\n",
    "- permalink: /studentlesson/grades\n",
    "- categories: [grades]"
   ]
  },
  {
   "cell_type": "markdown",
   "metadata": {},
   "source": [
    "# Find your name below to see your grade!"
   ]
  },
  {
   "cell_type": "markdown",
   "metadata": {},
   "source": [
    "|      Name        |     Score      |       Grader       |      Comments        |\n",
    "|------------------|----------------|--------------------|----------------------|\n",
    "| Ex. Ava Carlson | 0.9/1 |  Ava Carlson | Great work! All hacks complete. |"
   ]
  }
 ],
 "metadata": {
  "kernelspec": {
   "display_name": "Python 3.8.10 64-bit",
   "language": "python",
   "name": "python3"
  },
  "language_info": {
   "name": "python",
   "version": "3.8.10"
  },
  "orig_nbformat": 4,
  "vscode": {
   "interpreter": {
    "hash": "916dbcbb3f70747c44a77c7bcd40155683ae19c65e1c03b4aa3499c5328201f1"
   }
  }
 },
 "nbformat": 4,
 "nbformat_minor": 2
}

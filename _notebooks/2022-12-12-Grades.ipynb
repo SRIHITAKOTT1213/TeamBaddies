{
 "cells": [
  {
   "cell_type": "markdown",
   "metadata": {},
   "source": [
    "# Unit 3 Section 16 Grades- Simulations\n",
    "> Grades for the class\n",
    "\n",
    "- toc: true\n",
    "- comments: true\n",
    "- permalink: /studentlesson/grades\n",
    "- categories: [grades]"
   ]
  },
  {
   "cell_type": "markdown",
   "metadata": {},
   "source": [
    "# Find your name below to see your grade!"
   ]
  },
  {
   "attachments": {},
   "cell_type": "markdown",
   "metadata": {},
   "source": [
    "|      Name        |     Score      |       Grader       |      Comments        |\n",
    "|------------------|----------------|--------------------|----------------------|\n",
    "| Ex. Ava Carlson | 0.9/1 |  Ava Carlson | Great work! All hacks complete. |\n",
    "|Jeongwoo Lee | 1/1\t|Alexa Carlson | All hacks complete with very detailed explanations of simulations. 6/6 on quiz and 5 extra simulations coded |\t\t\t\t\t\t\t\t\t\t\t\n",
    "|Aron Rub | 0.96/1\t| Sri Kotturi | All the Hacks were complete and done very nicely and explained well. Extra credit completed and explained. I didn't see much of the guided questions being answered for the dice hack though, but overall it is good. Good Job!! |\t\t\t\t\t\t\t\n",
    "| Alex Kumar | 0.96/1 | Lydia Cho | All hacks complete with very detailed descriptions of each code. Basic extra simulation completed, but could have added more factors (or explained how) to make it more accurate.\t|\t\t\t\t\t\t\t\t\t\t\n",
    "| Safin Singh |\t1/1\t| Alexa Carlson\t| All hacks complete with very unique and detailed discriptions of the simulations. 6/6 on quiz. Coded a complex physics simulation that actually runs. |\t\t\t\t\t\t\t\t\t\t\n",
    "| Ethan Tran | 0.94/1 |\tAlexa Carlson | All hacks complete and 6/6 on quiz. Began an attempt to code a simulation (not finished) and fully described Conway's game of life. |\t\t\t\t\t\t\t\t\t\t\t\n",
    "| Amay Advani | 0.98/1 | Ava Carlson | All hacks complete with extra credit for dying pixels simulation. Guiding questions could be answered with more detail though.\t|\t\t\t\t\t\t\t\t\t\t\n",
    "| Kaiden Do\t| 1/1 | Sri Kotturi | All hacks were done and they were done well. You answered all of the guided questions which was good. Extra credit done and explained. |\t\t\t\t\t\t\t\t\t\t\n",
    "| Finn Carpenter | 0.94/1 | Lydia Cho | Hacks were done well, but guiding questions answered late. Extra credit simulation done very well.\t|\t\t\t\t\t\t\t\t\t\t\n",
    "| Grace Wang | 0.98/1 | Sri Kotturi\t| All hacks were complete and well done with explained extra credit for choosing an outfit. Guiding questions could be answered with more detail. Other than that, everything looked great. Good Job!!!\t|\t\t\t\t\t\t\t\t\t\t\n",
    "| Yasha Khoshini | 0.88/1 | Alexa Carlson | All hacks complete, however, didn't fully answer guiding questions on hack 3. 6/6 on quiz.\t|\t\t\t\t\t\t\t\t\t\t\n",
    "| Jake Warren | 0.97/1 | Lydia Cho | All hacks complete plus well done extra credit simulation, however you forgot to answer guiding questions for the extra credit. |\t\t\t\t\t\t\t\t\t\t\t\n",
    "| Liav Bar | 1/1 | Ava Carlson\t| All hacks are very detailed and complete. Guiding questions answered for all simulations, and extra credit spinner simulation. |\t\t\t\t\t\t\t\t\t\t\t\n",
    "| Taiyo Iwazaki\t| 0.9/1\t| Alexa Carlson | All hacks complete, however, discriptions of simulations are a little brief. 6/6 on quiz. Slightly late but came and talked to us. Coded a very complex and working game of 2048. |\t\t\t\t\t\t\t\t\t\t\t\n",
    "| David Vasilev\t| 0.98/1 | Ava Carlson\t| All hacks complete, but did not answer full guiding questions for hack #1. Coded extra credit simulation described in hack #1.|\t\t\t\t\t\t\t\t\t\t\t\n",
    "| Luka Van Den Boomen | 0.75/1 | Alexa Carlson\t| All hacks complete. Descriptions of simulations very brief, also late. 6/6 on quiz. |\t\t\t\t\t\t\t\t\t\t\n",
    "| Claire Zhao | 0.9/1 | Sri  Kotturi | everything was done and It looked great 6/6 on quiz\t|\t\t\t\t\t\t\t\t\t\t\n",
    "| Mati Danish | 0.83/1 | Ava Carlson | Hacks complete but guiding questions answered after due date. Guiding questions amswered simply.\t|\t\t\t\t\t\t\t\t\t\t\n",
    "| Shruthi Damodar | 0.88/1 | Alexa Carlson | All hacks complete, however didn't answer the guiding questions on hack #3. 6/6 on quiz. |\t\t\t\t\t\t\t\t\t\t\t\n",
    "| Claire Chen | 0.95/1 | Sri Kotturi | All hacks were good and you answered the guiding questions. the only thing is that the guiding questions were only briefly answered for hack #3 and there was no explanation on the extra credit. Other than that, it was great!\t|\t\t\t\t\t\t\t\t\t\t\n",
    "| Luna Iwazaki | 0.9/1\t| Lydia Cho | All hacks complete and done well. No extra credit. | \t\t\t\t\t\t\t\t\t\t\t\n",
    "| Steven Zhu | 1/1 | Ava Carlson | All hacks complete with full answers to guiding questions. Extra credit for flipping coins simulation\t|\t\t\t\t\t\t\t\t\t\t\n",
    "| Nathan Capule | 0.97/1 | Ava Carlson | All hacks complete will full answers to guiding questions. Extra credit for traveling simulation but very simple |\t\t\t\t\t\t\t\t\t\t\t\n",
    "| Nikhil Chakravarthula\t| 0.8/1 | Alexa Carlson | Almost all hacks complete. Hack number 3 not complete (describe rolling dice simulation). 6/6 on quiz. Also late | \t\t\t\t\t\t\t\t\t\t\t\n",
    "| Ederick Wong | 0.95/1 | Ava Carlson | All hacks complete with very detailed answers to guiding questions. Extra 0.05 added for complex dice hack addition |\t\t\t\t\t\t\t\t\t\t\t\n",
    "| Paaras Purohit | 0.95/1 | Sri Kotturi | All hacks complete with extra credit for simulation coded for example simulation. Although, guiding questions for dice not super detailed (but detailed for example simulation). |\t\t\t\t\t\t\t\t\t\t\t\n",
    "| Antony Yu | 0.79/1 | Lydia Cho | Hacks submitted late with guiding questions missing for hack 1 and extra credit. Hacks show little effort. |\t\n",
    "| Annika Liao | 0.8/1 | Ava Carlson | Hacks submitted late, guiding questions not fully answered but full extra credit|\n",
    "| Noor B. | 0.9/1 | Alexa Carlson | Hacks submitted late, all hacks complete (very well), 6/6 on quiz, full extra credit |"
   ]
  }
 ],
 "metadata": {
  "kernelspec": {
   "display_name": "Python 3.8.10 64-bit",
   "language": "python",
   "name": "python3"
  },
  "language_info": {
   "name": "python",
   "version": "3.8.10"
  },
  "orig_nbformat": 4,
  "vscode": {
   "interpreter": {
    "hash": "916dbcbb3f70747c44a77c7bcd40155683ae19c65e1c03b4aa3499c5328201f1"
   }
  }
 },
 "nbformat": 4,
 "nbformat_minor": 2
}
